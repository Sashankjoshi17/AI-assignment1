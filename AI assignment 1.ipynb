{
 "cells": [
  {
   "cell_type": "markdown",
   "id": "ba2d7a01",
   "metadata": {},
   "source": [
    "Prime numbers within a range\n"
   ]
  },
  {
   "cell_type": "code",
   "execution_count": 3,
   "id": "8c506b55",
   "metadata": {},
   "outputs": [
    {
     "name": "stdout",
     "output_type": "stream",
     "text": [
      "Enter range of number :2\n",
      "100\n",
      "the prime number in range are:\n",
      "2\n",
      "3\n",
      "5\n",
      "7\n",
      "11\n",
      "13\n",
      "17\n",
      "19\n",
      "23\n",
      "29\n",
      "31\n",
      "37\n",
      "41\n",
      "43\n",
      "47\n",
      "53\n",
      "59\n",
      "61\n",
      "67\n",
      "71\n",
      "73\n",
      "79\n",
      "83\n",
      "89\n",
      "97\n"
     ]
    }
   ],
   "source": [
    "def prime(a,b):\n",
    "    print (\"the prime number in range are:\")\n",
    "    for j in range(a,b):\n",
    "        count=0\n",
    "        for i in range(2,j):\n",
    "            if j %i == 0:\n",
    "                count+=1\n",
    "        if count ==0 :\n",
    "            print(j)\n",
    "a=int(input(\"Enter range of number :\"))\n",
    "b=int(input())\n",
    "prime(a,b+1)"
   ]
  },
  {
   "cell_type": "markdown",
   "id": "777854eb",
   "metadata": {},
   "source": [
    "Check Palindrome or not"
   ]
  },
  {
   "cell_type": "code",
   "execution_count": 4,
   "id": "233a14f9",
   "metadata": {},
   "outputs": [
    {
     "name": "stdout",
     "output_type": "stream",
     "text": [
      "Enter a number :54545\n",
      "54545 is palindrome\n"
     ]
    }
   ],
   "source": [
    "def palindrome(n):\n",
    "    temp=n\n",
    "    rotate=0\n",
    "    while(temp!=0):\n",
    "        rotate=rotate*10+temp%10\n",
    "        temp=temp//10\n",
    "    if(rotate==n):\n",
    "        print(f\"{n} is palindrome\")\n",
    "    else:\n",
    "        print(f\"{n} is not palindrome\")\n",
    "a=int(input(\"Enter a number :\"))\n",
    "palindrome(a)"
   ]
  },
  {
   "cell_type": "markdown",
   "id": "f547adc9",
   "metadata": {},
   "source": [
    "Fibonacci sequence"
   ]
  },
  {
   "cell_type": "code",
   "execution_count": 5,
   "id": "0228c5c4",
   "metadata": {},
   "outputs": [
    {
     "name": "stdout",
     "output_type": "stream",
     "text": [
      "Enter a number to find fibonacci Sequence:6\n",
      "0\n",
      "1\n",
      "1\n",
      "2\n",
      "3\n",
      "5\n"
     ]
    }
   ],
   "source": [
    "def fibonacci(n):\n",
    "    a=0\n",
    "    b=1\n",
    "    print(a)\n",
    "    while(n>1):\n",
    "        n=n-1;\n",
    "        temp=a\n",
    "        a=b\n",
    "        b=a+temp\n",
    "        print(a)\n",
    "a=int(input(\"Enter a number to find fibonacci Sequence:\"))\n",
    "fibonacci(a)"
   ]
  },
  {
   "cell_type": "markdown",
   "id": "4310d153",
   "metadata": {},
   "source": [
    "number guess"
   ]
  },
  {
   "cell_type": "code",
   "execution_count": 6,
   "id": "bd2dac39",
   "metadata": {},
   "outputs": [
    {
     "name": "stdout",
     "output_type": "stream",
     "text": [
      "Enter your guess78\n",
      "Your guess is too far and guess is upper.\n",
      "Enter your guess22\n",
      "Your guess is near and guess is upper.\n",
      "Enter your guess17\n",
      "Your guess is near and guess is upper.\n",
      "Enter your guess10\n",
      "Your guess is close and guess is upper.\n",
      "Enter your guess8\n",
      "Your guess is close and guess is upper.\n",
      "Enter your guess4\n",
      "Your guess is close and guess is upper.\n",
      "Enter your guess2\n",
      "Your guess is close and guess is upper.\n",
      "Enter your guess1\n",
      "Congratulation!!You guessed the number in 8 tries.\n"
     ]
    }
   ],
   "source": [
    "import random\n",
    " \n",
    "def check(a,count):\n",
    "       \n",
    "    \n",
    "    b=int(input(\"Enter your guess\"))\n",
    "    count+=1\n",
    "    if a==b:\n",
    "        print(\"Congratulation!!You guessed the number in \"+ str(count)+\" tries.\")\n",
    "        return 0\n",
    "    else:\n",
    "        if(abs(a-b)>50):\n",
    "            if(a>b):\n",
    "                print(\"Your guess is too far and guess is lower.\")\n",
    "            else:\n",
    "                print(\"Your guess is too far and guess is upper.\")\n",
    "        elif(abs(a-b)>30):\n",
    "            if(a>b):\n",
    "                print(\"Your guess is far and guess is lower.\")\n",
    "            else:\n",
    "                print(\"Your guess is far and guess is upper.\")\n",
    "        elif(abs(a-b)>10):\n",
    "            if(a>b):\n",
    "                print(\"Your guess is near and guess is lower.\")\n",
    "            else:\n",
    "                print(\"Your guess is near and guess is upper.\")\n",
    "            \n",
    "        elif(abs(a-b)<10):\n",
    "            if(a>b):\n",
    "                print(\"Your guess is close and guess is lower.\")\n",
    "            else:\n",
    "                print(\"Your guess is close and guess is upper.\")\n",
    "    check(a,count)\n",
    "a= random.randint(1,100)\n",
    "count=0\n",
    "check(a,count)"
   ]
  }
 ],
 "metadata": {
  "kernelspec": {
   "display_name": "Python 3 (ipykernel)",
   "language": "python",
   "name": "python3"
  },
  "language_info": {
   "codemirror_mode": {
    "name": "ipython",
    "version": 3
   },
   "file_extension": ".py",
   "mimetype": "text/x-python",
   "name": "python",
   "nbconvert_exporter": "python",
   "pygments_lexer": "ipython3",
   "version": "3.11.5"
  }
 },
 "nbformat": 4,
 "nbformat_minor": 5
}
